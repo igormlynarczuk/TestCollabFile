{
  "cells": [
    {
      "cell_type": "markdown",
      "metadata": {
        "id": "view-in-github",
        "colab_type": "text"
      },
      "source": [
        "<a href=\"https://colab.research.google.com/github/igormlynarczuk/TestCollabFile/blob/main/DataScienceEcosystem.ipynb\" target=\"_parent\"><img src=\"https://colab.research.google.com/assets/colab-badge.svg\" alt=\"Open In Colab\"/></a>"
      ]
    },
    {
      "cell_type": "markdown",
      "metadata": {
        "id": "VukCWUKDH9W4"
      },
      "source": [
        "<center>\n",
        "    <img src=\"https://cf-courses-data.s3.us.cloud-object-storage.appdomain.cloud/IBMDeveloperSkillsNetwork-DS0105EN-SkillsNetwork/labs/Module2/images/SN_web_lightmode.png\" width=\"300\" alt=\"cognitiveclass.ai logo\">\n",
        "</center>\n"
      ]
    },
    {
      "cell_type": "markdown",
      "metadata": {
        "id": "6q--Q11IH9W5"
      },
      "source": [
        "#### Add your code below following the instructions given in the course\n"
      ]
    },
    {
      "cell_type": "markdown",
      "metadata": {
        "id": "x-fi3OcEH9W5"
      },
      "source": [
        "# Data Science Tools and Ecosystem"
      ]
    },
    {
      "cell_type": "markdown",
      "metadata": {
        "id": "eYHXT91jH9W5"
      },
      "source": [
        "In this notebook, Data Science Tools and Ecosystem are summarized."
      ]
    },
    {
      "cell_type": "markdown",
      "metadata": {
        "id": "mFg8AOceH9W6"
      },
      "source": [
        "Objectives:\n",
        "* List popular languages for Data Science\n",
        "* List popular libraries in data science\n",
        "* Create a table"
      ]
    },
    {
      "cell_type": "markdown",
      "metadata": {
        "id": "_b9k0mIfH9W6"
      },
      "source": [
        "Some of the popular languages that Data Scientists use are:\n",
        "1. Python\n",
        "2. R\n",
        "3. C++"
      ]
    },
    {
      "cell_type": "markdown",
      "metadata": {
        "id": "9EByFsonH9W6"
      },
      "source": [
        "Some of the commonly used libraries used by Data Scientists include:\n",
        "1. pandas\n",
        "2. numpy\n",
        "3. matplotlib"
      ]
    },
    {
      "cell_type": "markdown",
      "metadata": {
        "id": "oGS1gmqgH9W7"
      },
      "source": [
        "|Data Science Tools|\n",
        "|------------------|\n",
        "|google collab|\n",
        "|R studio|\n",
        "|Jupyter notebook|"
      ]
    },
    {
      "cell_type": "markdown",
      "metadata": {
        "id": "6FSfUVemH9W7"
      },
      "source": [
        "### Below are a few examples of evaluating arithmetic expressions in Python"
      ]
    },
    {
      "cell_type": "code",
      "execution_count": null,
      "metadata": {
        "id": "bhfCn9pPH9W7",
        "outputId": "88bd0deb-186f-4d87-d66b-b25f6d3e0862"
      },
      "outputs": [
        {
          "data": {
            "text/plain": [
              "17"
            ]
          },
          "execution_count": 5,
          "metadata": {},
          "output_type": "execute_result"
        }
      ],
      "source": [
        "#This a simple arithmetic expression to mutiply then add integers\n",
        "(3*4)+5"
      ]
    },
    {
      "cell_type": "code",
      "execution_count": null,
      "metadata": {
        "id": "o4q_eHwHH9W8",
        "outputId": "86226e78-3299-41ab-e24f-a6cafa27c6a6"
      },
      "outputs": [
        {
          "data": {
            "text/plain": [
              "3.3333333333333335"
            ]
          },
          "execution_count": 6,
          "metadata": {},
          "output_type": "execute_result"
        }
      ],
      "source": [
        "#This will convert 200 minutes to hours by diving by 60\n",
        "200/60"
      ]
    },
    {
      "cell_type": "markdown",
      "metadata": {
        "id": "MRgyk8PfH9W8"
      },
      "source": [
        "## Author\n",
        "Igor"
      ]
    }
  ],
  "metadata": {
    "kernelspec": {
      "display_name": "Python 3 (ipykernel)",
      "language": "python",
      "name": "python3"
    },
    "language_info": {
      "codemirror_mode": {
        "name": "ipython",
        "version": 3
      },
      "file_extension": ".py",
      "mimetype": "text/x-python",
      "name": "python",
      "nbconvert_exporter": "python",
      "pygments_lexer": "ipython3",
      "version": "3.12.8"
    },
    "colab": {
      "provenance": [],
      "include_colab_link": true
    }
  },
  "nbformat": 4,
  "nbformat_minor": 0
}